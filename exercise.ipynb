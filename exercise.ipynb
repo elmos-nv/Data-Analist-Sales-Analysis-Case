{
 "cells": [
  {
   "attachments": {},
   "cell_type": "markdown",
   "metadata": {},
   "source": [
    "# Sales Analysis Case\n",
    "You are a data analyst for IKEA. Your manager has asked you to analyze the company's sales over the last year and provide insights on the company's top-selling products, most profitable regions, and customer behavior.\n",
    "\n",
    "## Data:\n",
    "- **Order ID:** Unique identifier for each order\n",
    "- **Date:** Date of the transaction\n",
    "- **Product:** Name of the product\n",
    "- **Category:** Category of the product (e.g., clothing, accessories)\n",
    "- **Price:** Price of the product\n",
    "- **Age**: Age of the customer\n",
    "- **City:** City where the sale took place\n",
    "- **Customer ID:** Unique identifier for each customer\n",
    "- **Quantity:** Quantity of the product sold in the transaction\n",
    "\n",
    "The dataset is located in the `data` folder with the name sales_data.csv\n"
   ]
  },
  {
   "cell_type": "code",
   "execution_count": null,
   "metadata": {},
   "outputs": [],
   "source": [
    "# Import the product_data.csv file into a DataFrame called product_data\n"
   ]
  },
  {
   "cell_type": "code",
   "execution_count": null,
   "metadata": {},
   "outputs": [],
   "source": [
    "# Calculate the total sales revenue for the company over the last year and visualize the trend over time.\n",
    "# TIP: You still have to calculate the total sales amount per orderline by multiplying the price with the quantity.\n"
   ]
  },
  {
   "cell_type": "code",
   "execution_count": null,
   "metadata": {},
   "outputs": [],
   "source": [
    "# Identify the top-selling products and categories, as well as their sales revenue and quantity sold."
   ]
  },
  {
   "cell_type": "code",
   "execution_count": null,
   "metadata": {},
   "outputs": [],
   "source": [
    "# Determine customer behavior by analyzing the number of transactions and average transaction value"
   ]
  },
  {
   "cell_type": "code",
   "execution_count": null,
   "metadata": {},
   "outputs": [],
   "source": [
    "# Calculate the 95th percentile of the total sales revenue per customer. This is the amount of money that 95% of the customers spend on average.\n",
    "# You can additionaly display this using a normal distribution plot."
   ]
  },
  {
   "cell_type": "code",
   "execution_count": null,
   "metadata": {},
   "outputs": [],
   "source": [
    "# Is there a correlation between customer age and total sales revenue? If so, what is the correlation coefficient?"
   ]
  }
 ],
 "metadata": {
  "kernelspec": {
   "display_name": "Python 3",
   "language": "python",
   "name": "python3"
  },
  "language_info": {
   "codemirror_mode": {
    "name": "ipython",
    "version": 3
   },
   "file_extension": ".py",
   "mimetype": "text/x-python",
   "name": "python",
   "nbconvert_exporter": "python",
   "pygments_lexer": "ipython3",
   "version": "3.11.2"
  },
  "orig_nbformat": 4,
  "vscode": {
   "interpreter": {
    "hash": "949777d72b0d2535278d3dc13498b2535136f6dfe0678499012e853ee9abcab1"
   }
  }
 },
 "nbformat": 4,
 "nbformat_minor": 2
}
